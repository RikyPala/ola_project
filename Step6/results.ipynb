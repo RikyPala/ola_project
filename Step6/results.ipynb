{
 "cells": [
  {
   "cell_type": "code",
   "execution_count": null,
   "id": "9eeaead3",
   "metadata": {
    "pycharm": {
     "name": "#%%\n"
    }
   },
   "outputs": [],
   "source": [
    "import numpy as np\n",
    "import matplotlib.pyplot as plt\n",
    "\n",
    "from NonStationaryEnvironment import NonStationaryEnvironment\n",
    "from CUMSUM_UCB import CUMSUM_UCB\n",
    "from SW_UCB import SW_UCB\n",
    "from Solver import Solver"
   ]
  },
  {
   "cell_type": "code",
   "execution_count": null,
   "id": "11ef0b82",
   "metadata": {
    "pycharm": {
     "name": "#%%\n"
    }
   },
   "outputs": [],
   "source": [
    "runs = 20\n",
    "T = 200\n",
    "\n",
    "ucb_cum_sum_results = []\n",
    "ucb_sw_results = []\n",
    "optimal_results = []"
   ]
  },
  {
   "cell_type": "code",
   "execution_count": null,
   "outputs": [],
   "source": [
    "env = NonStationaryEnvironment(T)\n",
    "solver = Solver(env)\n",
    "optimal_configurations, optimal_rewards = solver.find_optimal()\n",
    "\n",
    "for i in range(env.n_phases):\n",
    "\n",
    "    print(\"OPTIMAL CONFIGURATION Phase \"+str(i))\n",
    "    print(optimal_configurations[i])\n",
    "    print(\"OPTIMAL A-PRIORI REWARD \"+str(i))\n",
    "    print(optimal_rewards[i])"
   ],
   "metadata": {
    "collapsed": false,
    "pycharm": {
     "name": "#%%\n"
    }
   }
  },
  {
   "cell_type": "code",
   "execution_count": null,
   "id": "2723697d",
   "metadata": {
    "pycharm": {
     "name": "#%%\n"
    }
   },
   "outputs": [],
   "source": [
    "for r in range(runs):\n",
    "    print(\"\\n########## RUN\", r+1, \"\\n\")\n",
    "\n",
    "    env = NonStationaryEnvironment(T)\n",
    "    ucb_cum_sum = CUMSUM_UCB(env)\n",
    "    ucb_sw = SW_UCB(env)\n",
    "\n",
    "    ucb_cum_sum_rounds = []\n",
    "    ucb_sw_rounds = []\n",
    "    optimal_rounds = []\n",
    "\n",
    "    for i in range(T):\n",
    "        seed = np.random.randint(1, 2 ** 30)\n",
    "\n",
    "        ucb_cum_sum_configuration = ucb_cum_sum.pull()\n",
    "        ucb_cum_sum_round_data = env.round(ucb_cum_sum_configuration, seed)\n",
    "        ucb_cum_sum.update(ucb_cum_sum_round_data)\n",
    "        ucb_cum_sum_rounds.append(ucb_cum_sum_round_data)\n",
    "\n",
    "        ucb_sw_configuration = ucb_sw.pull()\n",
    "        ucb_sw_round_data = env.round(ucb_sw_configuration, seed)\n",
    "        ucb_sw.update(ucb_sw_round_data)\n",
    "        ucb_sw_rounds.append(ucb_sw_round_data)\n",
    "\n",
    "        current_phase = int(env.t / env.phases_size)\n",
    "        optimal_round_data = env.round(optimal_configurations[current_phase], seed, new_round=True)\n",
    "        optimal_rounds.append(optimal_round_data)\n",
    "\n",
    "    ucb_cum_sum_rewards = []\n",
    "    ucb_sw_rewards = []\n",
    "    optimal_rewards = []\n",
    "\n",
    "    for i in range(T):\n",
    "        ucb_cum_sum_rewards.append(ucb_cum_sum_rounds[i].reward)\n",
    "        ucb_sw_rewards.append(ucb_sw_rounds[i].reward)\n",
    "        optimal_rewards.append(optimal_rounds[i].reward)\n",
    "\n",
    "    ucb_cum_sum_rewards = np.array(ucb_cum_sum_rewards)\n",
    "    ucb_sw_rewards = np.array(ucb_sw_rewards)\n",
    "    optimal_rewards = np.array(optimal_rewards)\n",
    "\n",
    "    print(\"--------------------CUMSUM------------------\")\n",
    "    print(\"AVERAGE REWARD:\")\n",
    "    print(\"\\t\", np.average(ucb_cum_sum_rewards))\n",
    "    print(\"AVERAGE REGRET:\")\n",
    "    print(\"\\t\", np.average(optimal_rewards - ucb_cum_sum_rewards))\n",
    "\n",
    "    print(\"--------------------SW----------------------\")\n",
    "    print(\"AVERAGE REWARD:\")\n",
    "    print(\"\\t\", np.average(ucb_sw_rewards))\n",
    "    print(\"AVERAGE REGRET:\")\n",
    "    print(\"\\t\", np.average(optimal_rewards - ucb_sw_rewards))\n",
    "\n",
    "    ucb_cum_sum_results.append(ucb_cum_sum_rewards)\n",
    "    ucb_sw_results.append(ucb_sw_rewards)\n",
    "    optimal_results.append(optimal_rewards)"
   ]
  },
  {
   "cell_type": "code",
   "execution_count": null,
   "id": "703ebe4a",
   "metadata": {
    "pycharm": {
     "name": "#%%\n"
    }
   },
   "outputs": [],
   "source": [
    "ucb_cum_sum_results = np.array(ucb_cum_sum_results)\n",
    "ucb_sw_results = np.array(ucb_sw_results)\n",
    "optimal_results = np.array(optimal_results)\n",
    "\n",
    "rounds = list(range(T))"
   ]
  },
  {
   "cell_type": "code",
   "execution_count": null,
   "id": "414b2f45",
   "metadata": {
    "pycharm": {
     "name": "#%%\n"
    }
   },
   "outputs": [],
   "source": [
    "# REWARDS\n",
    "\n",
    "means = np.average(ucb_cum_sum_results, axis=0)\n",
    "std = np.std(ucb_cum_sum_results, axis=0)\n",
    "optimal = np.average(optimal_results, axis=0)\n",
    "fig, ax = plt.subplots()\n",
    "plt.title(\"Rewards - CUMSUM_UCB\")\n",
    "plt.xlabel(\"t\")\n",
    "plt.ylabel(\"rewards\")\n",
    "plt.ylim(0, 50)\n",
    "ax.set_xticks([0, 50, 100, 150, 200])\n",
    "ax.set_xticks([25, 75, 125, 175], minor=True)\n",
    "ax.grid(which='major', axis='x', linestyle='--')\n",
    "ax.plot(means, 'g', label=\"CUMSUM_UCB\")\n",
    "ax.fill_between(rounds, means-std, means+std, alpha=0.3, color='green')\n",
    "ax.plot(optimal, 'b--', label=\"Optimal\")\n",
    "plt.legend()\n",
    "\n",
    "means = np.average(ucb_sw_results, axis=0)\n",
    "std = np.std(ucb_sw_results, axis=0)\n",
    "optimal = np.average(optimal_results, axis=0)\n",
    "fig, ax = plt.subplots()\n",
    "plt.title(\"Rewards - SW_UCB\")\n",
    "plt.xlabel(\"t\")\n",
    "plt.ylabel(\"rewards\")\n",
    "plt.ylim(0, 50)\n",
    "ax.set_xticks([0, 50, 100, 150, 200])\n",
    "ax.set_xticks([25, 75, 125, 175], minor=True)\n",
    "ax.grid(which='major', axis='x', linestyle='--')\n",
    "ax.plot(means, 'r', label=\"SW_UCB\")\n",
    "ax.fill_between(rounds, means-std, means+std, alpha=0.3, color='red')\n",
    "ax.plot(optimal, 'b--', label=\"Optimal\")\n",
    "plt.legend()\n",
    "\n",
    "plt.show()"
   ]
  },
  {
   "cell_type": "code",
   "execution_count": null,
   "id": "07a33e1f",
   "metadata": {
    "pycharm": {
     "name": "#%%\n"
    }
   },
   "outputs": [],
   "source": [
    "# CUMULATIVE REWARDS\n",
    "\n",
    "means = np.average(np.cumsum(ucb_cum_sum_results, axis=1), axis=0)\n",
    "std = np.std(np.cumsum(ucb_cum_sum_results, axis=1), axis=0)\n",
    "optimal = np.average(np.cumsum(optimal_results, axis=1), axis=0)\n",
    "fig, ax = plt.subplots()\n",
    "plt.title(\"Cumulative Rewards - CUMSUM_UCB\")\n",
    "plt.xlabel(\"t\")\n",
    "plt.ylabel(\"cumulative rewards\")\n",
    "#plt.ylim(0, 4000)\n",
    "ax.set_xticks([0, 50, 100, 150, 200])\n",
    "ax.set_xticks([25, 75, 125, 175], minor=True)\n",
    "ax.grid(which='major', axis='x', linestyle='--')\n",
    "ax.plot(means, 'g', label=\"CUMSUM_UCB\")\n",
    "ax.fill_between(rounds, means-std, means+std, alpha=0.3, color='green')\n",
    "ax.plot(optimal, 'b--', label=\"Optimal\")\n",
    "plt.legend()\n",
    "\n",
    "means = np.average(np.cumsum(ucb_sw_results, axis=1), axis=0)\n",
    "std = np.std(np.cumsum(ucb_sw_results, axis=1), axis=0)\n",
    "optimal = np.average(np.cumsum(optimal_results, axis=1), axis=0)\n",
    "fig, ax = plt.subplots()\n",
    "plt.title(\"Cumulative Rewards - SW_UCB\")\n",
    "plt.xlabel(\"t\")\n",
    "plt.ylabel(\"cumulative rewards\")\n",
    "#plt.ylim(0, 4000)\n",
    "ax.set_xticks([0, 50, 100, 150, 200])\n",
    "ax.set_xticks([25, 75, 125, 175], minor=True)\n",
    "ax.grid(which='major', axis='x', linestyle='--')\n",
    "ax.plot(means, 'r', label=\"SW_UCB\")\n",
    "ax.fill_between(rounds, means-std, means+std, alpha=0.3, color='red')\n",
    "ax.plot(optimal, 'b--', label=\"Optimal\")\n",
    "plt.legend()\n",
    "\n",
    "plt.show()"
   ]
  },
  {
   "cell_type": "code",
   "execution_count": null,
   "id": "ae79e720",
   "metadata": {
    "pycharm": {
     "name": "#%%\n"
    }
   },
   "outputs": [],
   "source": [
    "# CUMULATIVE REGRETS\n",
    "\n",
    "means = np.average(np.cumsum(optimal_results - ucb_cum_sum_results, axis=1), axis=0)\n",
    "std = np.std(np.cumsum(optimal_results - ucb_cum_sum_results, axis=1), axis=0)\n",
    "fig, ax = plt.subplots()\n",
    "plt.title(\"Cumulative Regrets - CUMSUM_UCB\")\n",
    "plt.xlabel(\"t\")\n",
    "plt.ylabel(\"cumulative regrets\")\n",
    "plt.ylim(0, 650)\n",
    "ax.set_xticks([0, 50, 100, 150, 200])\n",
    "ax.set_xticks([25, 75, 125, 175], minor=True)\n",
    "ax.grid(which='major', axis='x', linestyle='--')\n",
    "ax.plot(means, 'g')\n",
    "ax.fill_between(rounds, means-std, means+std, alpha=0.3, color='green')\n",
    "\n",
    "means = np.average(np.cumsum(optimal_results - ucb_sw_results, axis=1), axis=0)\n",
    "std = np.std(np.cumsum(optimal_results - ucb_sw_results, axis=1), axis=0)\n",
    "fig, ax = plt.subplots()\n",
    "plt.title(\"Cumulative Regrets - SW_UCB\")\n",
    "plt.xlabel(\"t\")\n",
    "plt.ylabel(\"cumulative regrets\")\n",
    "plt.ylim(0, 650)\n",
    "ax.set_xticks([0, 50, 100, 150, 200])\n",
    "ax.set_xticks([25, 75, 125, 175], minor=True)\n",
    "ax.grid(which='major', axis='x', linestyle='--')\n",
    "ax.plot(means, 'r')\n",
    "ax.fill_between(rounds, means-std, means+std, alpha=0.3, color='red')\n",
    "\n",
    "plt.show()"
   ]
  },
  {
   "cell_type": "code",
   "execution_count": null,
   "id": "14553d7c",
   "metadata": {
    "pycharm": {
     "name": "#%%\n"
    }
   },
   "outputs": [],
   "source": []
  }
 ],
 "metadata": {
  "kernelspec": {
   "display_name": "Python 3 (ipykernel)",
   "language": "python",
   "name": "python3"
  },
  "language_info": {
   "codemirror_mode": {
    "name": "ipython",
    "version": 3
   },
   "file_extension": ".py",
   "mimetype": "text/x-python",
   "name": "python",
   "nbconvert_exporter": "python",
   "pygments_lexer": "ipython3",
   "version": "3.9.13"
  }
 },
 "nbformat": 4,
 "nbformat_minor": 5
}